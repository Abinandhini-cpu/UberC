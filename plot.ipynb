{
 "cells": [
  {
   "cell_type": "code",
   "execution_count": 1,
   "id": "05a4cab9-1cd0-404c-bc6f-eb61998a8ad6",
   "metadata": {
    "execution": {
     "iopub.execute_input": "2025-02-26T02:22:48.915331Z",
     "iopub.status.busy": "2025-02-26T02:22:48.914783Z",
     "iopub.status.idle": "2025-02-26T02:22:49.918015Z",
     "shell.execute_reply": "2025-02-26T02:22:49.917750Z",
     "shell.execute_reply.started": "2025-02-26T02:22:48.915286Z"
    }
   },
   "outputs": [],
   "source": [
    "import duckboat as uck\n",
    "import pandas as pd\n",
    "import seaborn as sns"
   ]
  },
  {
   "cell_type": "code",
   "execution_count": 2,
   "id": "68bb56a2-1e45-4d58-89db-e8e53a939975",
   "metadata": {
    "execution": {
     "iopub.execute_input": "2025-02-26T02:24:16.952176Z",
     "iopub.status.busy": "2025-02-26T02:24:16.951390Z",
     "iopub.status.idle": "2025-02-26T02:24:17.000982Z",
     "shell.execute_reply": "2025-02-26T02:24:17.000605Z",
     "shell.execute_reply.started": "2025-02-26T02:24:16.952132Z"
    }
   },
   "outputs": [],
   "source": [
    "t = uck.Database(\n",
    "    func = uck.Table('func.csv'),\n",
    "    arr = uck.Table('arr.csv'),\n",
    ").do(\n",
    "    \"\"\"\n",
    "    SELECT *, 'func' AS algo FROM func\n",
    "    UNION ALL\n",
    "    SELECT *, 'arr' AS algo FROM arr\n",
    "    \"\"\"\n",
    ")"
   ]
  },
  {
   "cell_type": "code",
   "execution_count": 3,
   "id": "43500221-3381-4fa6-9537-59866b11ea11",
   "metadata": {
    "execution": {
     "iopub.execute_input": "2025-02-26T02:24:22.636824Z",
     "iopub.status.busy": "2025-02-26T02:24:22.636095Z",
     "iopub.status.idle": "2025-02-26T02:24:22.674574Z",
     "shell.execute_reply": "2025-02-26T02:24:22.674283Z",
     "shell.execute_reply.started": "2025-02-26T02:24:22.636748Z"
    }
   },
   "outputs": [
    {
     "data": {
      "text/plain": [
       "┌───────────────┬──────────────┬─────────┐\n",
       "│     name      │ microseconds │  algo   │\n",
       "│    varchar    │    double    │ varchar │\n",
       "├───────────────┼──────────────┼─────────┤\n",
       "│ 2_8           │      209.664 │ func    │\n",
       "│ 8_14          │      195.354 │ func    │\n",
       "│ 8_14_null_2   │      170.134 │ func    │\n",
       "│ 8_14_null_10  │      202.087 │ func    │\n",
       "│ 8_14_null_100 │      199.787 │ func    │\n",
       "│ 2_8           │      195.437 │ func    │\n",
       "│ 8_14          │      197.466 │ func    │\n",
       "│ 8_14_null_2   │      169.883 │ func    │\n",
       "│ 8_14_null_10  │      202.142 │ func    │\n",
       "│ 8_14_null_100 │      202.415 │ func    │\n",
       "│  ·            │         ·    │  ·      │\n",
       "│  ·            │         ·    │  ·      │\n",
       "│  ·            │         ·    │  ·      │\n",
       "│ 2_8           │      156.212 │ arr     │\n",
       "│ 8_14          │      155.966 │ arr     │\n",
       "│ 8_14_null_2   │      155.931 │ arr     │\n",
       "│ 8_14_null_10  │      169.543 │ arr     │\n",
       "│ 8_14_null_100 │       160.45 │ arr     │\n",
       "│ 2_8           │      155.916 │ arr     │\n",
       "│ 8_14          │      156.125 │ arr     │\n",
       "│ 8_14_null_2   │      156.022 │ arr     │\n",
       "│ 8_14_null_10  │      169.688 │ arr     │\n",
       "│ 8_14_null_100 │       160.21 │ arr     │\n",
       "├───────────────┴──────────────┴─────────┤\n",
       "│ 5000 rows (20 shown)         3 columns │\n",
       "└────────────────────────────────────────┘"
      ]
     },
     "execution_count": 3,
     "metadata": {},
     "output_type": "execute_result"
    }
   ],
   "source": [
    "t"
   ]
  },
  {
   "cell_type": "code",
   "execution_count": 4,
   "id": "19685898-8e3e-44ad-8e43-3ea68566b034",
   "metadata": {
    "execution": {
     "iopub.execute_input": "2025-02-26T02:25:12.165447Z",
     "iopub.status.busy": "2025-02-26T02:25:12.164464Z",
     "iopub.status.idle": "2025-02-26T02:25:12.248440Z",
     "shell.execute_reply": "2025-02-26T02:25:12.248072Z",
     "shell.execute_reply.started": "2025-02-26T02:25:12.165399Z"
    }
   },
   "outputs": [],
   "source": [
    "df = t.do(\n",
    "    \"WHERE name = '8_14_null_100'\",\n",
    "    \"pandas\"\n",
    ")"
   ]
  },
  {
   "cell_type": "code",
   "execution_count": 5,
   "id": "dcb8beb1-7438-4853-9154-61425f015762",
   "metadata": {
    "execution": {
     "iopub.execute_input": "2025-02-26T02:25:13.189304Z",
     "iopub.status.busy": "2025-02-26T02:25:13.188778Z",
     "iopub.status.idle": "2025-02-26T02:25:13.211545Z",
     "shell.execute_reply": "2025-02-26T02:25:13.211044Z",
     "shell.execute_reply.started": "2025-02-26T02:25:13.189261Z"
    }
   },
   "outputs": [
    {
     "data": {
      "text/html": [
       "<div>\n",
       "<style scoped>\n",
       "    .dataframe tbody tr th:only-of-type {\n",
       "        vertical-align: middle;\n",
       "    }\n",
       "\n",
       "    .dataframe tbody tr th {\n",
       "        vertical-align: top;\n",
       "    }\n",
       "\n",
       "    .dataframe thead th {\n",
       "        text-align: right;\n",
       "    }\n",
       "</style>\n",
       "<table border=\"1\" class=\"dataframe\">\n",
       "  <thead>\n",
       "    <tr style=\"text-align: right;\">\n",
       "      <th></th>\n",
       "      <th>name</th>\n",
       "      <th>microseconds</th>\n",
       "      <th>algo</th>\n",
       "    </tr>\n",
       "  </thead>\n",
       "  <tbody>\n",
       "    <tr>\n",
       "      <th>0</th>\n",
       "      <td>8_14_null_100</td>\n",
       "      <td>199.787</td>\n",
       "      <td>func</td>\n",
       "    </tr>\n",
       "    <tr>\n",
       "      <th>1</th>\n",
       "      <td>8_14_null_100</td>\n",
       "      <td>202.415</td>\n",
       "      <td>func</td>\n",
       "    </tr>\n",
       "    <tr>\n",
       "      <th>2</th>\n",
       "      <td>8_14_null_100</td>\n",
       "      <td>205.850</td>\n",
       "      <td>func</td>\n",
       "    </tr>\n",
       "    <tr>\n",
       "      <th>3</th>\n",
       "      <td>8_14_null_100</td>\n",
       "      <td>205.265</td>\n",
       "      <td>func</td>\n",
       "    </tr>\n",
       "    <tr>\n",
       "      <th>4</th>\n",
       "      <td>8_14_null_100</td>\n",
       "      <td>205.928</td>\n",
       "      <td>func</td>\n",
       "    </tr>\n",
       "    <tr>\n",
       "      <th>...</th>\n",
       "      <td>...</td>\n",
       "      <td>...</td>\n",
       "      <td>...</td>\n",
       "    </tr>\n",
       "    <tr>\n",
       "      <th>995</th>\n",
       "      <td>8_14_null_100</td>\n",
       "      <td>160.348</td>\n",
       "      <td>arr</td>\n",
       "    </tr>\n",
       "    <tr>\n",
       "      <th>996</th>\n",
       "      <td>8_14_null_100</td>\n",
       "      <td>160.248</td>\n",
       "      <td>arr</td>\n",
       "    </tr>\n",
       "    <tr>\n",
       "      <th>997</th>\n",
       "      <td>8_14_null_100</td>\n",
       "      <td>160.213</td>\n",
       "      <td>arr</td>\n",
       "    </tr>\n",
       "    <tr>\n",
       "      <th>998</th>\n",
       "      <td>8_14_null_100</td>\n",
       "      <td>160.450</td>\n",
       "      <td>arr</td>\n",
       "    </tr>\n",
       "    <tr>\n",
       "      <th>999</th>\n",
       "      <td>8_14_null_100</td>\n",
       "      <td>160.210</td>\n",
       "      <td>arr</td>\n",
       "    </tr>\n",
       "  </tbody>\n",
       "</table>\n",
       "<p>1000 rows × 3 columns</p>\n",
       "</div>"
      ],
      "text/plain": [
       "              name  microseconds  algo\n",
       "0    8_14_null_100       199.787  func\n",
       "1    8_14_null_100       202.415  func\n",
       "2    8_14_null_100       205.850  func\n",
       "3    8_14_null_100       205.265  func\n",
       "4    8_14_null_100       205.928  func\n",
       "..             ...           ...   ...\n",
       "995  8_14_null_100       160.348   arr\n",
       "996  8_14_null_100       160.248   arr\n",
       "997  8_14_null_100       160.213   arr\n",
       "998  8_14_null_100       160.450   arr\n",
       "999  8_14_null_100       160.210   arr\n",
       "\n",
       "[1000 rows x 3 columns]"
      ]
     },
     "execution_count": 5,
     "metadata": {},
     "output_type": "execute_result"
    }
   ],
   "source": [
    "df"
   ]
  },
  {
   "cell_type": "code",
   "execution_count": 8,
   "id": "52e51c35-97b0-4a11-b0d0-80b81ee7b3ec",
   "metadata": {
    "execution": {
     "iopub.execute_input": "2025-02-26T02:28:17.591125Z",
     "iopub.status.busy": "2025-02-26T02:28:17.590597Z",
     "iopub.status.idle": "2025-02-26T02:28:17.771994Z",
     "shell.execute_reply": "2025-02-26T02:28:17.771737Z",
     "shell.execute_reply.started": "2025-02-26T02:28:17.591084Z"
    }
   },
   "outputs": [
    {
     "data": {
      "text/plain": [
       "<Axes: xlabel='microseconds', ylabel='Density'>"
      ]
     },
     "execution_count": 8,
     "metadata": {},
     "output_type": "execute_result"
    },
    {
     "data": {
      "image/png": "[encoded data removed]",
      "text/plain": [
       "<Figure size 640x480 with 1 Axes>"
      ]
     },
     "metadata": {},
     "output_type": "display_data"
    }
   ],
   "source": [
    "sns.histplot(df, x='microseconds', hue='algo', bins=100, multiple='layer', stat=\"density\")"
   ]
  },
  {
   "cell_type": "code",
   "execution_count": null,
   "id": "6dadf604-2fbc-462e-8cc1-1899fd35b877",
   "metadata": {},
   "outputs": [],
   "source": []
  }
 ],
 "metadata": {
  "kernelspec": {
   "display_name": "Python 3 (ipykernel)",
   "language": "python",
   "name": "python3"
  },
  "language_info": {
   "codemirror_mode": {
    "name": "ipython",
    "version": 3
   },
   "file_extension": ".py",
   "mimetype": "text/x-python",
   "name": "python",
   "nbconvert_exporter": "python",
   "pygments_lexer": "ipython3",
   "version": "3.12.2"
  }
 },
 "nbformat": 4,
 "nbformat_minor": 5
}
