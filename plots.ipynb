{
 "cells": [
  {
   "cell_type": "code",
   "execution_count": 1,
   "id": "8a329690-828c-4396-a69a-de20902d3161",
   "metadata": {
    "execution": {
     "iopub.execute_input": "2025-02-20T05:26:46.427785Z",
     "iopub.status.busy": "2025-02-20T05:26:46.427075Z",
     "iopub.status.idle": "2025-02-20T05:26:46.859204Z",
     "shell.execute_reply": "2025-02-20T05:26:46.858901Z",
     "shell.execute_reply.started": "2025-02-20T05:26:46.427740Z"
    }
   },
   "outputs": [],
   "source": [
    "import duckboat as uck\n",
    "import pandas as pd\n",
    "import seaborn as sns"
   ]
  },
  {
   "cell_type": "code",
   "execution_count": 2,
   "id": "603e5b29-f5ed-404d-bbc7-1d45b0ec9f72",
   "metadata": {
    "execution": {
     "iopub.execute_input": "2025-02-20T05:26:46.859677Z",
     "iopub.status.busy": "2025-02-20T05:26:46.859577Z",
     "iopub.status.idle": "2025-02-20T05:26:46.882113Z",
     "shell.execute_reply": "2025-02-20T05:26:46.881905Z",
     "shell.execute_reply.started": "2025-02-20T05:26:46.859670Z"
    }
   },
   "outputs": [
    {
     "data": {
      "text/plain": [
       "┌───────────────┬──────────────┬──────────┐\n",
       "│     name      │ microseconds │   algo   │\n",
       "│    varchar    │    double    │ varchar  │\n",
       "├───────────────┼──────────────┼──────────┤\n",
       "│ 2_8           │       979.43 │ old      │\n",
       "│ 8_14          │     1354.988 │ old      │\n",
       "│ 8_14_null_2   │      748.978 │ old      │\n",
       "│ 8_14_null_10  │     1234.543 │ old      │\n",
       "│ 8_14_null_100 │     1317.698 │ old      │\n",
       "│ 2_8           │     1003.892 │ old      │\n",
       "│ 8_14          │     1349.913 │ old      │\n",
       "│ 8_14_null_2   │      746.612 │ old      │\n",
       "│ 8_14_null_10  │     1233.247 │ old      │\n",
       "│ 8_14_null_100 │     1317.503 │ old      │\n",
       "│  ·            │         ·    │  ·       │\n",
       "│  ·            │         ·    │  ·       │\n",
       "│  ·            │         ·    │  ·       │\n",
       "│ 2_8           │      403.196 │ fallback │\n",
       "│ 8_14          │      845.458 │ fallback │\n",
       "│ 8_14_null_2   │      495.243 │ fallback │\n",
       "│ 8_14_null_10  │       809.72 │ fallback │\n",
       "│ 8_14_null_100 │       841.95 │ fallback │\n",
       "│ 2_8           │      391.509 │ fallback │\n",
       "│ 8_14          │      845.598 │ fallback │\n",
       "│ 8_14_null_2   │      495.366 │ fallback │\n",
       "│ 8_14_null_10  │      809.809 │ fallback │\n",
       "│ 8_14_null_100 │      841.832 │ fallback │\n",
       "├───────────────┴──────────────┴──────────┤\n",
       "│ 3090 rows (20 shown)          3 columns │\n",
       "└─────────────────────────────────────────┘"
      ]
     },
     "execution_count": 2,
     "metadata": {},
     "output_type": "execute_result"
    }
   ],
   "source": [
    "t = uck.Database(\n",
    "    old = uck.Table('old.csv'),\n",
    "    final = uck.Table('final.csv'),\n",
    "    fallback = uck.Table('fallback.csv'),\n",
    ").do(\n",
    "    \"\"\"\n",
    "    select *, 'old' as algo from old\n",
    "    union all\n",
    "    select *, 'final' as algo from final\n",
    "    union all\n",
    "    select *, 'fallback' as algo from fallback\n",
    "    \"\"\"\n",
    ")\n",
    "t"
   ]
  },
  {
   "cell_type": "code",
   "execution_count": 3,
   "id": "55d918bc-21a9-4649-97d6-4f2666cd8232",
   "metadata": {
    "execution": {
     "iopub.execute_input": "2025-02-20T05:26:46.882984Z",
     "iopub.status.busy": "2025-02-20T05:26:46.882914Z",
     "iopub.status.idle": "2025-02-20T05:26:46.909635Z",
     "shell.execute_reply": "2025-02-20T05:26:46.909378Z",
     "shell.execute_reply.started": "2025-02-20T05:26:46.882976Z"
    }
   },
   "outputs": [],
   "source": [
    "df = t.do(\n",
    "    \"where name = '8_14_null_100'\",\n",
    "    # \"\"\"\n",
    "    # select\n",
    "    #     algo,\n",
    "    #     min(microseconds),\n",
    "    # group by\n",
    "    #     1\n",
    "    # \"\"\"\n",
    "    'pandas'\n",
    ")"
   ]
  },
  {
   "cell_type": "code",
   "execution_count": 4,
   "id": "a2f22a5d-0110-4b4c-af3a-9efeb2215568",
   "metadata": {
    "execution": {
     "iopub.execute_input": "2025-02-20T05:26:46.910066Z",
     "iopub.status.busy": "2025-02-20T05:26:46.909972Z",
     "iopub.status.idle": "2025-02-20T05:26:46.914350Z",
     "shell.execute_reply": "2025-02-20T05:26:46.914189Z",
     "shell.execute_reply.started": "2025-02-20T05:26:46.910059Z"
    }
   },
   "outputs": [
    {
     "data": {
      "text/html": [
       "<div>\n",
       "<style scoped>\n",
       "    .dataframe tbody tr th:only-of-type {\n",
       "        vertical-align: middle;\n",
       "    }\n",
       "\n",
       "    .dataframe tbody tr th {\n",
       "        vertical-align: top;\n",
       "    }\n",
       "\n",
       "    .dataframe thead th {\n",
       "        text-align: right;\n",
       "    }\n",
       "</style>\n",
       "<table border=\"1\" class=\"dataframe\">\n",
       "  <thead>\n",
       "    <tr style=\"text-align: right;\">\n",
       "      <th></th>\n",
       "      <th>name</th>\n",
       "      <th>microseconds</th>\n",
       "      <th>algo</th>\n",
       "    </tr>\n",
       "  </thead>\n",
       "  <tbody>\n",
       "    <tr>\n",
       "      <th>0</th>\n",
       "      <td>8_14_null_100</td>\n",
       "      <td>1317.698</td>\n",
       "      <td>old</td>\n",
       "    </tr>\n",
       "    <tr>\n",
       "      <th>1</th>\n",
       "      <td>8_14_null_100</td>\n",
       "      <td>1317.503</td>\n",
       "      <td>old</td>\n",
       "    </tr>\n",
       "    <tr>\n",
       "      <th>2</th>\n",
       "      <td>8_14_null_100</td>\n",
       "      <td>1406.140</td>\n",
       "      <td>old</td>\n",
       "    </tr>\n",
       "    <tr>\n",
       "      <th>3</th>\n",
       "      <td>8_14_null_100</td>\n",
       "      <td>1352.988</td>\n",
       "      <td>old</td>\n",
       "    </tr>\n",
       "    <tr>\n",
       "      <th>4</th>\n",
       "      <td>8_14_null_100</td>\n",
       "      <td>1321.513</td>\n",
       "      <td>old</td>\n",
       "    </tr>\n",
       "    <tr>\n",
       "      <th>...</th>\n",
       "      <td>...</td>\n",
       "      <td>...</td>\n",
       "      <td>...</td>\n",
       "    </tr>\n",
       "    <tr>\n",
       "      <th>613</th>\n",
       "      <td>8_14_null_100</td>\n",
       "      <td>841.822</td>\n",
       "      <td>fallback</td>\n",
       "    </tr>\n",
       "    <tr>\n",
       "      <th>614</th>\n",
       "      <td>8_14_null_100</td>\n",
       "      <td>842.119</td>\n",
       "      <td>fallback</td>\n",
       "    </tr>\n",
       "    <tr>\n",
       "      <th>615</th>\n",
       "      <td>8_14_null_100</td>\n",
       "      <td>842.287</td>\n",
       "      <td>fallback</td>\n",
       "    </tr>\n",
       "    <tr>\n",
       "      <th>616</th>\n",
       "      <td>8_14_null_100</td>\n",
       "      <td>841.950</td>\n",
       "      <td>fallback</td>\n",
       "    </tr>\n",
       "    <tr>\n",
       "      <th>617</th>\n",
       "      <td>8_14_null_100</td>\n",
       "      <td>841.832</td>\n",
       "      <td>fallback</td>\n",
       "    </tr>\n",
       "  </tbody>\n",
       "</table>\n",
       "<p>618 rows × 3 columns</p>\n",
       "</div>"
      ],
      "text/plain": [
       "              name  microseconds      algo\n",
       "0    8_14_null_100      1317.698       old\n",
       "1    8_14_null_100      1317.503       old\n",
       "2    8_14_null_100      1406.140       old\n",
       "3    8_14_null_100      1352.988       old\n",
       "4    8_14_null_100      1321.513       old\n",
       "..             ...           ...       ...\n",
       "613  8_14_null_100       841.822  fallback\n",
       "614  8_14_null_100       842.119  fallback\n",
       "615  8_14_null_100       842.287  fallback\n",
       "616  8_14_null_100       841.950  fallback\n",
       "617  8_14_null_100       841.832  fallback\n",
       "\n",
       "[618 rows x 3 columns]"
      ]
     },
     "execution_count": 4,
     "metadata": {},
     "output_type": "execute_result"
    }
   ],
   "source": [
    "df"
   ]
  },
  {
   "cell_type": "code",
   "execution_count": 5,
   "id": "b3a66e25-6510-4d4c-9c2b-d3dfdf4f352d",
   "metadata": {
    "execution": {
     "iopub.execute_input": "2025-02-20T05:26:46.914696Z",
     "iopub.status.busy": "2025-02-20T05:26:46.914624Z",
     "iopub.status.idle": "2025-02-20T05:26:47.103435Z",
     "shell.execute_reply": "2025-02-20T05:26:47.103189Z",
     "shell.execute_reply.started": "2025-02-20T05:26:46.914689Z"
    }
   },
   "outputs": [
    {
     "data": {
      "text/plain": [
       "<Axes: xlabel='microseconds', ylabel='Density'>"
      ]
     },
     "execution_count": 5,
     "metadata": {},
     "output_type": "execute_result"
    },
    {
     "data": {
      "image/png": "[encoded data removed]",
      "text/plain": [
       "<Figure size 640x480 with 1 Axes>"
      ]
     },
     "metadata": {},
     "output_type": "display_data"
    }
   ],
   "source": [
    "sns.histplot(df, x='microseconds', hue='algo', bins=100, multiple='layer', stat=\"density\")"
   ]
  },
  {
   "cell_type": "code",
   "execution_count": 19,
   "id": "a5b3ad62-9bf5-4b14-b656-feb6208bdbfa",
   "metadata": {
    "execution": {
     "iopub.execute_input": "2025-02-20T05:54:12.872322Z",
     "iopub.status.busy": "2025-02-20T05:54:12.871786Z",
     "iopub.status.idle": "2025-02-20T05:54:13.064552Z",
     "shell.execute_reply": "2025-02-20T05:54:13.064321Z",
     "shell.execute_reply.started": "2025-02-20T05:54:12.872276Z"
    }
   },
   "outputs": [
    {
     "data": {
      "text/plain": [
       "┌───────────────┬─────────┬─────────┬─────────┐\n",
       "│     name      │  algo1  │  algo2  │ speedup │\n",
       "│    varchar    │ varchar │ varchar │ double  │\n",
       "├───────────────┼─────────┼─────────┼─────────┤\n",
       "│ 2_8           │ old     │ final   │     6.4 │\n",
       "│ 8_14          │ old     │ final   │     9.1 │\n",
       "│ 8_14_null_10  │ old     │ final   │     7.8 │\n",
       "│ 8_14_null_100 │ old     │ final   │     8.8 │\n",
       "│ 8_14_null_2   │ old     │ final   │     5.0 │\n",
       "└───────────────┴─────────┴─────────┴─────────┘"
      ]
     },
     "execution_count": 19,
     "metadata": {},
     "output_type": "execute_result"
    }
   ],
   "source": [
    "t.do(\n",
    "    \"\"\"\n",
    "    select\n",
    "        name,\n",
    "        algo,\n",
    "        min(microseconds)\n",
    "            as mus,\n",
    "    group by\n",
    "        1,2\n",
    "    \"\"\",\n",
    "    'alias t',\n",
    "    \"\"\"\n",
    "    select\n",
    "        name\n",
    "        , t1.algo\n",
    "            as algo1\n",
    "        , t2.algo\n",
    "            as algo2\n",
    "        , round(t1.mus / t2.mus, 1)\n",
    "            as speedup\n",
    "    from\n",
    "        t as t1\n",
    "    left join\n",
    "        t as t2\n",
    "    using\n",
    "        (name)\n",
    "    \"\"\",\n",
    "    \"where algo2 = 'final' \",\n",
    "    \"where algo1 = 'old' \",\n",
    "    'order by 1,2',\n",
    ")"
   ]
  },
  {
   "cell_type": "code",
   "execution_count": null,
   "id": "e9d33f72-f638-4ed0-9c36-6f4ddbd66292",
   "metadata": {},
   "outputs": [],
   "source": []
  }
 ],
 "metadata": {
  "kernelspec": {
   "display_name": "Python 3 (ipykernel)",
   "language": "python",
   "name": "python3"
  },
  "language_info": {
   "codemirror_mode": {
    "name": "ipython",
    "version": 3
   },
   "file_extension": ".py",
   "mimetype": "text/x-python",
   "name": "python",
   "nbconvert_exporter": "python",
   "pygments_lexer": "ipython3",
   "version": "3.12.2"
  }
 },
 "nbformat": 4,
 "nbformat_minor": 5
}
