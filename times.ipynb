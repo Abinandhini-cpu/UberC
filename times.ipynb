{
 "cells": [
  {
   "cell_type": "code",
   "execution_count": 1,
   "id": "8a329690-828c-4396-a69a-de20902d3161",
   "metadata": {
    "execution": {
     "iopub.execute_input": "2025-02-22T18:54:03.159899Z",
     "iopub.status.busy": "2025-02-22T18:54:03.159646Z",
     "iopub.status.idle": "2025-02-22T18:54:03.639069Z",
     "shell.execute_reply": "2025-02-22T18:54:03.638829Z",
     "shell.execute_reply.started": "2025-02-22T18:54:03.159878Z"
    }
   },
   "outputs": [],
   "source": [
    "import duckboat as uck\n",
    "import pandas as pd\n",
    "import seaborn as sns"
   ]
  },
  {
   "cell_type": "code",
   "execution_count": 2,
   "id": "603e5b29-f5ed-404d-bbc7-1d45b0ec9f72",
   "metadata": {
    "execution": {
     "iopub.execute_input": "2025-02-22T18:54:03.639614Z",
     "iopub.status.busy": "2025-02-22T18:54:03.639458Z",
     "iopub.status.idle": "2025-02-22T18:54:03.665174Z",
     "shell.execute_reply": "2025-02-22T18:54:03.664979Z",
     "shell.execute_reply.started": "2025-02-22T18:54:03.639605Z"
    }
   },
   "outputs": [
    {
     "data": {
      "text/plain": [
       "┌───────────────┬──────────────┬──────────┐\n",
       "│     name      │ microseconds │   algo   │\n",
       "│    varchar    │    double    │ varchar  │\n",
       "├───────────────┼──────────────┼──────────┤\n",
       "│ 2_8           │       979.43 │ old      │\n",
       "│ 8_14          │     1354.988 │ old      │\n",
       "│ 8_14_null_2   │      748.978 │ old      │\n",
       "│ 8_14_null_10  │     1234.543 │ old      │\n",
       "│ 8_14_null_100 │     1317.698 │ old      │\n",
       "│ 2_8           │     1003.892 │ old      │\n",
       "│ 8_14          │     1349.913 │ old      │\n",
       "│ 8_14_null_2   │      746.612 │ old      │\n",
       "│ 8_14_null_10  │     1233.247 │ old      │\n",
       "│ 8_14_null_100 │     1317.503 │ old      │\n",
       "│  ·            │         ·    │  ·       │\n",
       "│  ·            │         ·    │  ·       │\n",
       "│  ·            │         ·    │  ·       │\n",
       "│ 2_8           │      403.196 │ fallback │\n",
       "│ 8_14          │      845.458 │ fallback │\n",
       "│ 8_14_null_2   │      495.243 │ fallback │\n",
       "│ 8_14_null_10  │       809.72 │ fallback │\n",
       "│ 8_14_null_100 │       841.95 │ fallback │\n",
       "│ 2_8           │      391.509 │ fallback │\n",
       "│ 8_14          │      845.598 │ fallback │\n",
       "│ 8_14_null_2   │      495.366 │ fallback │\n",
       "│ 8_14_null_10  │      809.809 │ fallback │\n",
       "│ 8_14_null_100 │      841.832 │ fallback │\n",
       "├───────────────┴──────────────┴──────────┤\n",
       "│ 3590 rows (20 shown)          3 columns │\n",
       "└─────────────────────────────────────────┘"
      ]
     },
     "execution_count": 2,
     "metadata": {},
     "output_type": "execute_result"
    }
   ],
   "source": [
    "t = uck.Database(\n",
    "    old = uck.Table('old.csv'),\n",
    "    final = uck.Table('final.csv'),\n",
    "    fallback = uck.Table('fallback.csv'),\n",
    ").do(\n",
    "    \"\"\"\n",
    "    select *, 'old' as algo from old\n",
    "    union all\n",
    "    select *, 'final' as algo from final\n",
    "    union all\n",
    "    select *, 'fallback' as algo from fallback\n",
    "    \"\"\"\n",
    ")\n",
    "t"
   ]
  },
  {
   "cell_type": "code",
   "execution_count": 3,
   "id": "306da20e-76c8-4e27-b3c9-a83238860df6",
   "metadata": {
    "execution": {
     "iopub.execute_input": "2025-02-22T18:54:08.093577Z",
     "iopub.status.busy": "2025-02-22T18:54:08.092854Z",
     "iopub.status.idle": "2025-02-22T18:54:08.159826Z",
     "shell.execute_reply": "2025-02-22T18:54:08.159539Z",
     "shell.execute_reply.started": "2025-02-22T18:54:08.093524Z"
    }
   },
   "outputs": [
    {
     "data": {
      "text/plain": [
       "┌───────────────┬─────────────────────┐\n",
       "│     name      │ min(\"microseconds\") │\n",
       "│    varchar    │       double        │\n",
       "├───────────────┼─────────────────────┤\n",
       "│ 2_8           │              145.86 │\n",
       "│ 8_14          │             145.692 │\n",
       "│ 8_14_null_10  │             158.055 │\n",
       "│ 8_14_null_100 │             149.781 │\n",
       "│ 8_14_null_2   │             145.267 │\n",
       "└───────────────┴─────────────────────┘"
      ]
     },
     "execution_count": 3,
     "metadata": {},
     "output_type": "execute_result"
    }
   ],
   "source": [
    "t.do(\n",
    "\"\"\"\n",
    "select\n",
    "      name\n",
    "    , min(microseconds)\n",
    "where\n",
    "    algo = 'final'\n",
    "group by\n",
    "    1\n",
    "order by\n",
    "    1\n",
    "\"\"\"\n",
    ")"
   ]
  },
  {
   "cell_type": "code",
   "execution_count": 3,
   "id": "88343331-0ba0-4951-99e3-4d22aaaf4ad7",
   "metadata": {
    "execution": {
     "iopub.execute_input": "2025-02-22T18:35:05.716013Z",
     "iopub.status.busy": "2025-02-22T18:35:05.715182Z",
     "iopub.status.idle": "2025-02-22T18:35:05.783358Z",
     "shell.execute_reply": "2025-02-22T18:35:05.783082Z",
     "shell.execute_reply.started": "2025-02-22T18:35:05.715972Z"
    }
   },
   "outputs": [
    {
     "data": {
      "text/plain": [
       "┌───────────────┬─────────────────────┐\n",
       "│     name      │ min(\"microseconds\") │\n",
       "│    varchar    │       double        │\n",
       "├───────────────┼─────────────────────┤\n",
       "│ 2_8           │             145.904 │\n",
       "│ 8_14          │             145.666 │\n",
       "│ 8_14_null_10  │              158.04 │\n",
       "│ 8_14_null_100 │             149.827 │\n",
       "│ 8_14_null_2   │              145.24 │\n",
       "└───────────────┴─────────────────────┘"
      ]
     },
     "execution_count": 3,
     "metadata": {},
     "output_type": "execute_result"
    }
   ],
   "source": [
    "t.do(\n",
    "\"\"\"\n",
    "select\n",
    "      name\n",
    "    , min(microseconds)\n",
    "where\n",
    "    algo = 'final'\n",
    "group by\n",
    "    1\n",
    "order by\n",
    "    1\n",
    "\"\"\"\n",
    ")"
   ]
  },
  {
   "cell_type": "code",
   "execution_count": 4,
   "id": "55d918bc-21a9-4649-97d6-4f2666cd8232",
   "metadata": {
    "execution": {
     "iopub.execute_input": "2025-02-22T18:24:30.128685Z",
     "iopub.status.busy": "2025-02-22T18:24:30.128267Z",
     "iopub.status.idle": "2025-02-22T18:24:30.200384Z",
     "shell.execute_reply": "2025-02-22T18:24:30.200112Z",
     "shell.execute_reply.started": "2025-02-22T18:24:30.128653Z"
    }
   },
   "outputs": [
    {
     "data": {
      "text/plain": [
       "┌───────────────┬─────────────────────┐\n",
       "│     name      │ min(\"microseconds\") │\n",
       "│    varchar    │       double        │\n",
       "├───────────────┼─────────────────────┤\n",
       "│ 2_8           │             145.811 │\n",
       "│ 8_14          │             145.701 │\n",
       "│ 8_14_null_10  │             158.117 │\n",
       "│ 8_14_null_100 │             150.027 │\n",
       "│ 8_14_null_2   │             145.261 │\n",
       "└───────────────┴─────────────────────┘"
      ]
     },
     "execution_count": 4,
     "metadata": {},
     "output_type": "execute_result"
    }
   ],
   "source": [
    "t.do(\n",
    "\"\"\"\n",
    "select\n",
    "      name\n",
    "    , min(microseconds)\n",
    "where\n",
    "    algo = 'final'\n",
    "group by\n",
    "    1\n",
    "order by\n",
    "    1\n",
    "\"\"\"\n",
    ")"
   ]
  },
  {
   "cell_type": "code",
   "execution_count": null,
   "id": "e9d33f72-f638-4ed0-9c36-6f4ddbd66292",
   "metadata": {},
   "outputs": [],
   "source": []
  }
 ],
 "metadata": {
  "kernelspec": {
   "display_name": "Python 3 (ipykernel)",
   "language": "python",
   "name": "python3"
  },
  "language_info": {
   "codemirror_mode": {
    "name": "ipython",
    "version": 3
   },
   "file_extension": ".py",
   "mimetype": "text/x-python",
   "name": "python",
   "nbconvert_exporter": "python",
   "pygments_lexer": "ipython3",
   "version": "3.12.2"
  }
 },
 "nbformat": 4,
 "nbformat_minor": 5
}
